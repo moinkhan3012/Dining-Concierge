{
 "cells": [
  {
   "cell_type": "code",
   "execution_count": 2,
   "id": "0ad67822",
   "metadata": {},
   "outputs": [],
   "source": [
    "import requests\n",
    "from tqdm.notebook import tqdm as tqdm_notebook\n",
    "import pandas as pd\n",
    "import os\n",
    "import json\n",
    "import boto3"
   ]
  },
  {
   "cell_type": "markdown",
   "id": "8526c3db",
   "metadata": {},
   "source": [
    "# YELP"
   ]
  },
  {
   "cell_type": "markdown",
   "id": "ef1b75db",
   "metadata": {},
   "source": [
    "## Authorization"
   ]
  },
  {
   "cell_type": "code",
   "execution_count": 17,
   "id": "04f087cb",
   "metadata": {},
   "outputs": [],
   "source": [
    "SEARCH_LIMIT =50"
   ]
  },
  {
   "cell_type": "code",
   "execution_count": 87,
   "id": "27cd3982",
   "metadata": {},
   "outputs": [],
   "source": [
    "api_key = \"\"\n",
    "\n",
    "def construct_url_params(url, params:dict):\n",
    "    \"\"\"\n",
    "        Construct new url by adding query params to the url.\n",
    "        \n",
    "        Returns: new url\n",
    "    \"\"\"\n",
    "    \n",
    "    #if no query params, add ? else add & at the end of url\n",
    "    url+='?' if not '?' in url else '&'\n",
    "    for i,j in params.items():\n",
    "        url+=f'{i}={j}&'\n",
    "        \n",
    "    #strip extra & at the end\n",
    "    return url.rstrip('&')\n",
    "        \n",
    "\n",
    "def business_search(params, api_key):\n",
    "    url = \"https://api.yelp.com/v3/businesses/search?\"\n",
    "        \n",
    "    headers = {\n",
    "        'Accept': 'application/json',\n",
    "        'Authorization': f'Bearer {api_key}'\n",
    "    }\n",
    "    \n",
    "    search_url = construct_url_params(url, params)\n",
    "    result = requests.get(search_url, headers=headers)\n",
    "    if result.status_code == 200:\n",
    "        #return data, status_code, error as None\n",
    "        return (result.json(), 200, None)\n",
    "    else:\n",
    "        #reutrn data as None, Failed status code, and the response (error)\n",
    "        return (None, result.status_code,  result.json())"
   ]
  },
  {
   "cell_type": "code",
   "execution_count": 88,
   "id": "f3b7cc8d",
   "metadata": {},
   "outputs": [],
   "source": [
    "res = business_search({'location': 'manhattan', 'term': f'Indian restaurants', 'offset':i*SEARCH_LIMIT, 'limit': SEARCH_LIMIT}, api_key)"
   ]
  },
  {
   "cell_type": "code",
   "execution_count": 37,
   "id": "a5071a30",
   "metadata": {},
   "outputs": [],
   "source": [
    "def create_folder(path='', folder_name='data'):\n",
    "    \"\"\"\n",
    "        path contains the path where folder is to be created, if empty, creates folder in current dir\n",
    "    \"\"\"\n",
    "    try:\n",
    "        os.makedirs(os.path.join(path, folder_name))\n",
    "        return os.path.join(path, folder_name)\n",
    "    except FileExistsError as err:\n",
    "        return os.path.join(path, folder_name)\n",
    "    except Exception as err:\n",
    "        print(err)\n",
    "        return None"
   ]
  },
  {
   "cell_type": "code",
   "execution_count": 38,
   "id": "f5c69dea",
   "metadata": {},
   "outputs": [],
   "source": [
    "#create folder to store data\n",
    "data_folder_path = create_folder()"
   ]
  },
  {
   "cell_type": "markdown",
   "id": "0227aa1a",
   "metadata": {},
   "source": [
    "## Dynamo DB"
   ]
  },
  {
   "cell_type": "code",
   "execution_count": 4,
   "id": "8f54f2e7",
   "metadata": {},
   "outputs": [],
   "source": [
    "def create_table(table_name, partition_key, region_name='us-east-1'):\n",
    "    dynamodb = boto3.resource('dynamodb', region_name= region_name)\n",
    "    table = dynamodb.create_table(\n",
    "        TableName=table_name,\n",
    "        KeySchema=[\n",
    "            {\n",
    "                'AttributeName': partition_key,\n",
    "                'KeyType': 'HASH'  #Partition_key\n",
    "            }\n",
    "        ],\n",
    "        AttributeDefinitions =[{\"AttributeName\": partition_key,\"AttributeType\":\"S\"}],\n",
    "         ProvisionedThroughput={\n",
    "        'ReadCapacityUnits': 10,\n",
    "        'WriteCapacityUnits': 10\n",
    "    }\n",
    "\n",
    "    )\n",
    "\n",
    "    print(\"Table status:\", table.table_status)\n"
   ]
  },
  {
   "cell_type": "code",
   "execution_count": 57,
   "id": "3cf10eed",
   "metadata": {},
   "outputs": [
    {
     "name": "stdout",
     "output_type": "stream",
     "text": [
      "Table status: CREATING\n"
     ]
    }
   ],
   "source": [
    "import boto3\n",
    "\n",
    "create_table(\"past-restaurant-suggestions\", partition_key='user_id')"
   ]
  },
  {
   "cell_type": "code",
   "execution_count": 84,
   "id": "f7fe0cfa",
   "metadata": {},
   "outputs": [
    {
     "name": "stdout",
     "output_type": "stream",
     "text": [
      "Table status: CREATING\n"
     ]
    }
   ],
   "source": [
    "import boto3\n",
    "\n",
    "create_table(\"yelp-restaurants\", partition_key='business_id')"
   ]
  },
  {
   "cell_type": "code",
   "execution_count": 86,
   "id": "8d36cbaf",
   "metadata": {},
   "outputs": [
    {
     "data": {
      "application/vnd.jupyter.widget-view+json": {
       "model_id": "1fefb0f1e748427a866dbf471d014d6d",
       "version_major": 2,
       "version_minor": 0
      },
      "text/plain": [
       "  0%|          | 0/3 [00:00<?, ?it/s]"
      ]
     },
     "metadata": {},
     "output_type": "display_data"
    },
    {
     "name": "stdout",
     "output_type": "stream",
     "text": [
      "italian 1000\n"
     ]
    },
    {
     "data": {
      "application/vnd.jupyter.widget-view+json": {
       "model_id": "eb801946634347bcb980515f2dba93ea",
       "version_major": 2,
       "version_minor": 0
      },
      "text/plain": [
       "  0%|          | 0/1000 [00:00<?, ?it/s]"
      ]
     },
     "metadata": {},
     "output_type": "display_data"
    },
    {
     "name": "stdout",
     "output_type": "stream",
     "text": [
      "indian 932\n"
     ]
    },
    {
     "data": {
      "application/vnd.jupyter.widget-view+json": {
       "model_id": "5232165fec9a469bbc51f29eb1605a70",
       "version_major": 2,
       "version_minor": 0
      },
      "text/plain": [
       "  0%|          | 0/932 [00:00<?, ?it/s]"
      ]
     },
     "metadata": {},
     "output_type": "display_data"
    },
    {
     "name": "stdout",
     "output_type": "stream",
     "text": [
      "french 815\n"
     ]
    },
    {
     "data": {
      "application/vnd.jupyter.widget-view+json": {
       "model_id": "b0b453f5b8464d7b9357367b6aacc059",
       "version_major": 2,
       "version_minor": 0
      },
      "text/plain": [
       "  0%|          | 0/815 [00:00<?, ?it/s]"
      ]
     },
     "metadata": {},
     "output_type": "display_data"
    }
   ],
   "source": [
    "all_id = []\n",
    "count = 0\n",
    "\n",
    "cuisines = ['italian', 'indian', 'french', 'chinese', 'mexican', 'thai', 'japanese']\n",
    "ind_count = { cuisine: 0 for cuisine in cuisines}\n",
    "\n",
    "from datetime import datetime\n",
    "import time\n",
    "from decimal import Decimal\n",
    "\n",
    "\n",
    "dynamodb = boto3.resource('dynamodb', region_name= 'us-east-1')\n",
    "\n",
    "table = dynamodb.Table('yelp-restaurants')\n",
    "\n",
    "for cuisine in tqdm_notebook(cuisines[:3]):\n",
    "    #open each cuisine data file \n",
    "    file_path = f\"{data_folder_path}/{cuisine}.json\"\n",
    "    df = pd.read_json(file_path)\n",
    "    print(cuisine, len(df))\n",
    "    data = {}\n",
    "    cnt = 0\n",
    "    for i in tqdm_notebook(range(len(df))):\n",
    "        if not df.iloc[i]['id'] in all_id:\n",
    "            ind_count[cuisine] +=1\n",
    "            all_id.append(df.iloc[i]['id'])\n",
    "            \n",
    "            data = {\n",
    "                'insertedAtTimestamp' : str(datetime.now()),\n",
    "                'business_id': df.iloc[i]['id'],\n",
    "                'name': df.iloc[i]['name'],\n",
    "                'address': ','.join(df.iloc[i]['location']['display_address']),\n",
    "                'coordinates':{'latitude': Decimal(str(df.iloc[i]['coordinates']['latitude'])), 'longitude': Decimal(str(df.iloc[i]['coordinates']['longitude']))},\n",
    "                'rating': Decimal(str(df.iloc[i]['rating'])),\n",
    "                'reviews': Decimal(str(df.iloc[i]['review_count'])),\n",
    "                'zip_code': df.iloc[i]['location']['zip_code']\n",
    "                \n",
    "            }\n",
    "            \n",
    "            table.put_item(Item=data)\n",
    "            cnt+=1\n",
    "            time.sleep(0.25)\n",
    "            \n",
    "        if cnt == 50:\n",
    "            break"
   ]
  },
  {
   "cell_type": "markdown",
   "id": "e3c440c5",
   "metadata": {},
   "source": [
    "## Elastic Search"
   ]
  },
  {
   "cell_type": "code",
   "execution_count": 88,
   "id": "9e234283",
   "metadata": {},
   "outputs": [
    {
     "name": "stdout",
     "output_type": "stream",
     "text": [
      "{'restaurants': {'aliases': {}, 'mappings': {'properties': {'cuisine_type': {'type': 'text'}}}, 'settings': {'index': {'creation_date': '1708462333791', 'number_of_shards': '5', 'number_of_replicas': '1', 'uuid': 'sQT-xkpsRlSF7lnFmbuUaQ', 'version': {'created': '7100299'}, 'provided_name': 'restaurants'}}}}\n"
     ]
    }
   ],
   "source": [
    "from elasticsearch import Elasticsearch, RequestsHttpConnection\n",
    "from requests_aws4auth import AWS4Auth\n",
    "import boto3\n",
    "from elasticsearch.helpers import bulk\n",
    "\n",
    "\n",
    "# Set up AWS credentials and region\n",
    "region = 'us-east-1'\n",
    "service = 'es'\n",
    "credentials = boto3.Session().get_credentials()\n",
    "awsauth = AWS4Auth(credentials.access_key, credentials.secret_key, region, service)\n",
    "\n",
    "# Set up Elasticsearch connection\n",
    "host = 'search-es-cc-brsklwm7vfelhgxjchwyvm4nue.aos.us-east-1.on.aws'\n",
    "index = 'restaurants'\n",
    "doc_type = 'your-doc-type'\n",
    "\n",
    "# Create Elasticsearch client\n",
    "es = Elasticsearch(\n",
    "    hosts=[{'host': host, 'port': 443}],\n",
    "#     basic_auth=['master', 'Computing@1234'],\n",
    "    http_auth=['master_test', 'Computing@1234'],\n",
    "    use_ssl=True,\n",
    "    verify_certs=True,\n",
    "    connection_class=RequestsHttpConnection\n",
    ")\n",
    "\n",
    "mappings = {\n",
    "\n",
    "        \"properties\": {\n",
    "\n",
    "#             \"restaurant_id\": {\"type\": \"text\"},\n",
    "            \"cuisine_type\": {\"type\": \"text\"}\n",
    "        }\n",
    "    }\n",
    "resp = es.indices.create(index=index, body = {'mappings': mappings},  ignore=400)\n",
    "# print(resp)\n",
    "\n",
    "resp = es.indices.get(index=index, ignore=400)\n",
    "print(resp)\n"
   ]
  },
  {
   "cell_type": "code",
   "execution_count": 87,
   "id": "9675889d",
   "metadata": {},
   "outputs": [],
   "source": [
    "# resp = es.indices.delete(index=index)"
   ]
  },
  {
   "cell_type": "code",
   "execution_count": 89,
   "id": "f3ec1c55",
   "metadata": {},
   "outputs": [
    {
     "data": {
      "application/vnd.jupyter.widget-view+json": {
       "model_id": "5a4e489ed32b4a60b425a744b4f6bcf2",
       "version_major": 2,
       "version_minor": 0
      },
      "text/plain": [
       "  0%|          | 0/3 [00:00<?, ?it/s]"
      ]
     },
     "metadata": {},
     "output_type": "display_data"
    },
    {
     "name": "stdout",
     "output_type": "stream",
     "text": [
      "italian 1000\n"
     ]
    },
    {
     "data": {
      "application/vnd.jupyter.widget-view+json": {
       "model_id": "1bf2053828ec443ea9f7b739ab893d19",
       "version_major": 2,
       "version_minor": 0
      },
      "text/plain": [
       "  0%|          | 0/1000 [00:00<?, ?it/s]"
      ]
     },
     "metadata": {},
     "output_type": "display_data"
    },
    {
     "name": "stdout",
     "output_type": "stream",
     "text": [
      "indian 932\n"
     ]
    },
    {
     "data": {
      "application/vnd.jupyter.widget-view+json": {
       "model_id": "a3f37649045e42d08d9de87375712943",
       "version_major": 2,
       "version_minor": 0
      },
      "text/plain": [
       "  0%|          | 0/932 [00:00<?, ?it/s]"
      ]
     },
     "metadata": {},
     "output_type": "display_data"
    },
    {
     "name": "stdout",
     "output_type": "stream",
     "text": [
      "french 815\n"
     ]
    },
    {
     "data": {
      "application/vnd.jupyter.widget-view+json": {
       "model_id": "52391aad4a8b4a2095f734121bc4e188",
       "version_major": 2,
       "version_minor": 0
      },
      "text/plain": [
       "  0%|          | 0/815 [00:00<?, ?it/s]"
      ]
     },
     "metadata": {},
     "output_type": "display_data"
    }
   ],
   "source": [
    "documents = []\n",
    "all_id = []\n",
    "cuisines = ['italian', 'indian', 'french', 'chinese', 'mexican', 'thai', 'japanese']\n",
    "\n",
    "for cuisine in tqdm_notebook(cuisines[:3]):\n",
    "    #open each cuisine data file \n",
    "    file_path = f\"{data_folder_path}/{cuisine}.json\"\n",
    "    df = pd.read_json(file_path)\n",
    "    print(cuisine, len(df))\n",
    "    data = {}\n",
    "    cnt = 0\n",
    "    for i in tqdm_notebook(range(len(df))):\n",
    "        if not df.iloc[i]['id'] in all_id:\n",
    "            all_id.append(df.iloc[i]['id'])\n",
    "            \n",
    "            documents.append({\n",
    "                '_index': index,\n",
    "                '_id': df.iloc[i]['id'],\n",
    "                '_source':\n",
    "                \n",
    "                {\n",
    "                    'cuisine_type': cuisine,\n",
    "                }\n",
    "            })\n",
    "\n",
    "            cnt+=1\n",
    "\n",
    "        if cnt == 50:\n",
    "            bulk(es, documents)\n",
    "            documents = []\n",
    "            break"
   ]
  },
  {
   "cell_type": "code",
   "execution_count": 90,
   "id": "bf1fdf9f",
   "metadata": {},
   "outputs": [
    {
     "name": "stdout",
     "output_type": "stream",
     "text": [
      "[{'epoch': '1708462348', 'timestamp': '20:52:28', 'count': '150'}]\n"
     ]
    }
   ],
   "source": [
    "print(es.cat.count(index=index, format= \"json\"))"
   ]
  },
  {
   "cell_type": "code",
   "execution_count": 50,
   "id": "b337ba18",
   "metadata": {},
   "outputs": [],
   "source": [
    "script_query ={\n",
    "    \"field\": \"restaurant_id\",\n",
    "    \"num_candidates\": 1000\n",
    "  \n",
    "}"
   ]
  },
  {
   "cell_type": "code",
   "execution_count": 91,
   "id": "a1ed5126",
   "metadata": {},
   "outputs": [],
   "source": [
    "response = es.search(index=index, q='cuisine_type:italian', size = 100)"
   ]
  }
 ],
 "metadata": {
  "kernelspec": {
   "display_name": "Python 3 (ipykernel)",
   "language": "python",
   "name": "python3"
  },
  "language_info": {
   "codemirror_mode": {
    "name": "ipython",
    "version": 3
   },
   "file_extension": ".py",
   "mimetype": "text/x-python",
   "name": "python",
   "nbconvert_exporter": "python",
   "pygments_lexer": "ipython3",
   "version": "3.9.0"
  }
 },
 "nbformat": 4,
 "nbformat_minor": 5
}
